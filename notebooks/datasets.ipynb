{
 "cells": [
  {
   "cell_type": "markdown",
   "id": "82af8e9f-a8fa-4e5c-9198-486e3bfc798d",
   "metadata": {},
   "source": [
    "# Dataset\n",
    "\n",
    "Sample code used for generation of the datasets used in the experiments. \n",
    "\n",
    "Three datasets are generated, which are also available for direct download from `data/csv` directory."
   ]
  },
  {
   "cell_type": "code",
   "execution_count": null,
   "id": "73e8006a-5605-4828-a17a-384c4639e8a0",
   "metadata": {},
   "outputs": [],
   "source": [
    "import sys\n",
    "\n",
    "sys.path.append(\"..\")  # we run from subdirectory, so to access sources append repo root to path"
   ]
  },
  {
   "cell_type": "code",
   "execution_count": null,
   "id": "59e1156d-fcda-4c6d-bf90-46eb9b747ecd",
   "metadata": {},
   "outputs": [],
   "source": [
    "import numpy as np\n",
    "import pandas as pd\n",
    "import seaborn as sns\n",
    "from matplotlib import pyplot as plt\n",
    "from numpy.typing import NDArray\n",
    "from scipy import integrate, special, stats"
   ]
  },
  {
   "cell_type": "code",
   "execution_count": null,
   "id": "9f07f1cf-0019-4ebd-9411-54f28017939e",
   "metadata": {},
   "outputs": [],
   "source": [
    "sns.set()"
   ]
  },
  {
   "cell_type": "markdown",
   "id": "1d7757ff-3067-4dfd-9846-03aa9aca3861",
   "metadata": {},
   "source": [
    "# Sine Function\n",
    "\n",
    "Dataset is simple static nonlinear function, represented by the equation given by `f`."
   ]
  },
  {
   "cell_type": "code",
   "execution_count": null,
   "id": "d4add23a-7886-4c9f-b70c-a451a759b0e0",
   "metadata": {},
   "outputs": [],
   "source": [
    "def f(x: NDArray, freq: float, gamma: float) -> NDArray:\n",
    "    return np.exp(-gamma*x) * np.sin(freq*x)"
   ]
  },
  {
   "cell_type": "code",
   "execution_count": null,
   "id": "d54e576e-a956-499e-b1b3-7425b5c0a9e4",
   "metadata": {},
   "outputs": [],
   "source": [
    "# sample 1000 points to plot\n",
    "x = np.linspace(0, 12 * np.pi, 1000)\n",
    "y = f(x, freq=1, gamma=0.1)"
   ]
  },
  {
   "cell_type": "code",
   "execution_count": null,
   "id": "3ba9ec4b-995b-4bfd-8187-f2d8179eb147",
   "metadata": {},
   "outputs": [],
   "source": [
    "_ = plt.figure(figsize=[8, 4])\n",
    "_ = plt.plot(x, y)"
   ]
  },
  {
   "cell_type": "code",
   "execution_count": null,
   "id": "3306a1a9-58aa-446f-8248-29b277d339ad",
   "metadata": {},
   "outputs": [],
   "source": [
    "# generate 2000 random points for the benchmark\n",
    "# they will be split into two sets (train and test), 1000 points each\n",
    "x = stats.uniform.rvs(size=2000, scale=12*np.pi)\n",
    "y = f(x, freq=1, gamma=0.1) + stats.norm.rvs(size=2000, loc=0, scale=0.05)"
   ]
  },
  {
   "cell_type": "code",
   "execution_count": null,
   "id": "b10434c6-a791-4e72-ac5f-e3a1ab381fa5",
   "metadata": {},
   "outputs": [],
   "source": [
    "_ = plt.figure(figsize=[8, 4])\n",
    "_ = plt.scatter(x, y, s=1)"
   ]
  },
  {
   "cell_type": "markdown",
   "id": "35fd6d30-3215-4562-a8c5-f148d2625442",
   "metadata": {},
   "source": [
    "We create `DataFrame` from the generated dataset, but do not save it in this notebook. The random noise does not have seed for this example, so it might be different the data used in the experiments. We generated dataset once and stored it, so all experiments used exactly the same points."
   ]
  },
  {
   "cell_type": "code",
   "execution_count": null,
   "id": "aa949607-b979-47dc-81c0-04cfab98c8a9",
   "metadata": {},
   "outputs": [],
   "source": [
    "dataset = pd.DataFrame.from_records(np.column_stack([x, y]), columns=[\"x\", \"y\"])\n",
    "dataset.head(3)"
   ]
  },
  {
   "cell_type": "markdown",
   "id": "537a6f68-6201-47a6-82ec-4fd1e6af6eea",
   "metadata": {},
   "source": [
    "# Sum of Gaussians\n",
    "\n",
    "This dataset represents high dimensional static system, R^8 to R^1. The function is defined as sum of 8 Gaussian density\n",
    "functions (not distribution, but explicit PDF) with different C (given in table below). The inputs are samples uniformly\n",
    "on range [-1, 1]. L is 1/4 for all Gaussian functions, so for its sum as well. Noise was added with sigma = 0.1."
   ]
  },
  {
   "cell_type": "code",
   "execution_count": null,
   "id": "fc36b30e-83c7-49f2-b6d3-f37ebba443d7",
   "metadata": {},
   "outputs": [],
   "source": [
    "ndim = 8\n",
    "samples = 20_000"
   ]
  },
  {
   "cell_type": "code",
   "execution_count": null,
   "id": "3e707a0c-e86b-405e-ad38-447d75c30a36",
   "metadata": {},
   "outputs": [],
   "source": [
    "x = stats.uniform.rvs(size=ndim * samples, loc=-1, scale=2)\n",
    "x = x.reshape([samples, ndim])\n",
    "x.shape"
   ]
  },
  {
   "cell_type": "code",
   "execution_count": null,
   "id": "600f2f89-c80c-4274-8b4e-bbae5f60c670",
   "metadata": {},
   "outputs": [],
   "source": [
    "# randomly generated coefficients C (exact values for C used in experiments are given in README)\n",
    "coefficients = stats.norm.rvs(size=ndim)\n",
    "coefficients"
   ]
  },
  {
   "cell_type": "code",
   "execution_count": null,
   "id": "c4be253c-45bb-4391-829e-3164b47bc752",
   "metadata": {},
   "outputs": [],
   "source": [
    "def f(x):\n",
    "    return 1 / 8 * np.sum([coefficients[dim] * stats.norm.pdf(x[:, dim]) for dim in range(x.shape[-1])], axis=0)"
   ]
  },
  {
   "cell_type": "code",
   "execution_count": null,
   "id": "afc88f4f-1c53-406d-9b24-a6f9be400f77",
   "metadata": {},
   "outputs": [],
   "source": [
    "y = f(x)\n",
    "y = y + stats.norm.rvs(size=samples, loc=0, scale=0.01)"
   ]
  },
  {
   "cell_type": "code",
   "execution_count": null,
   "id": "312d96c2-ca39-4885-b692-90df9de90345",
   "metadata": {},
   "outputs": [],
   "source": [
    "dataset = pd.DataFrame.from_records(np.column_stack([x, y]), columns=[f\"x{n + 1}\" for n in range(ndim)] + [\"y\"])\n",
    "dataset.head(3)"
   ]
  },
  {
   "cell_type": "markdown",
   "id": "55f232ca-24b5-4dc1-865f-c035ae16519e",
   "metadata": {},
   "source": [
    "# Nonlinear Dynamics\n",
    "\n",
    "This dataset represents low dimensional dynamic system, R^1 to R^1 with nonlinear dynamics. The function is defined as\n",
    "`x' = -k \\sigma(x-1) u(t)`, where `sigma` is sigmoid function, `k` is constant equal to 0.9 and `u(t)` is input signal,\n",
    "which was generated as sine wave. The system was numerically integrated and is stored in CSV files with 3 columns:\n",
    "\"t\" for time, \"u\" for inputs and \"y\" for noised outputs. Initial condition was 1, time is set to 100 000 samples from 0\n",
    "to 100 seconds and forcing was given as `sin(pi/5 t)`."
   ]
  },
  {
   "cell_type": "code",
   "execution_count": null,
   "id": "fd9d8abe-72ad-417f-8863-1247a2d1bbcd",
   "metadata": {},
   "outputs": [],
   "source": [
    "samples = 100_000"
   ]
  },
  {
   "cell_type": "code",
   "execution_count": null,
   "id": "3d63a752-9b59-4c92-992e-292e2f2adcec",
   "metadata": {},
   "outputs": [],
   "source": [
    "# generate forcing singal dependant on time\n",
    "def forcing(t):\n",
    "    return np.sin(np.pi / 5 * t)"
   ]
  },
  {
   "cell_type": "code",
   "execution_count": null,
   "id": "195de562-532d-47f6-98db-0c9e34a1ad97",
   "metadata": {},
   "outputs": [],
   "source": [
    "t = np.linspace(0, 100, samples)"
   ]
  },
  {
   "cell_type": "code",
   "execution_count": null,
   "id": "0724a528-ac4a-48e0-9bc5-09220a376d5c",
   "metadata": {},
   "outputs": [],
   "source": [
    "_ = plt.figure(figsize=[8, 4])\n",
    "_ = plt.plot(t, forcing(t))"
   ]
  },
  {
   "cell_type": "markdown",
   "id": "8b8b8d56-00b1-4adc-b4c2-68565999d95f",
   "metadata": {},
   "source": [
    "Define the dynamical system with `k` constant and initial condition `y0`."
   ]
  },
  {
   "cell_type": "code",
   "execution_count": null,
   "id": "d39f5b20-fd46-4e6f-9bb0-2210846212eb",
   "metadata": {},
   "outputs": [],
   "source": [
    "y0 = [1.0]\n",
    "k = 0.9\n",
    "\n",
    "def system(x: NDArray, t: NDArray) -> NDArray:\n",
    "    dxdt = -k * special.expit(x - 1) * forcing(t)\n",
    "    return dxdt"
   ]
  },
  {
   "cell_type": "code",
   "execution_count": null,
   "id": "77145cf7-6a56-450d-a30f-8e5fdf71d1ac",
   "metadata": {},
   "outputs": [],
   "source": [
    "# solve the system with odeint from scipy\n",
    "solution = integrate.odeint(system, y0, t)\n",
    "y = solution.flatten() + stats.norm.rvs(loc=0.0, scale=0.05, size=samples) "
   ]
  },
  {
   "cell_type": "code",
   "execution_count": null,
   "id": "28042823-d3e8-410d-bcde-ba1b0c448fff",
   "metadata": {},
   "outputs": [],
   "source": [
    "dataset = pd.DataFrame.from_records(np.column_stack([t, forcing(t), y]), columns=[\"t\", \"x\", \"y\"])\n",
    "dataset.head(3)"
   ]
  },
  {
   "cell_type": "code",
   "execution_count": null,
   "id": "5ef37068-c78c-476f-a304-1feccf73e561",
   "metadata": {},
   "outputs": [],
   "source": []
  }
 ],
 "metadata": {
  "kernelspec": {
   "display_name": "Python 3 (ipykernel)",
   "language": "python",
   "name": "python3"
  },
  "language_info": {
   "codemirror_mode": {
    "name": "ipython",
    "version": 3
   },
   "file_extension": ".py",
   "mimetype": "text/x-python",
   "name": "python",
   "nbconvert_exporter": "python",
   "pygments_lexer": "ipython3",
   "version": "3.10.13"
  }
 },
 "nbformat": 4,
 "nbformat_minor": 5
}
