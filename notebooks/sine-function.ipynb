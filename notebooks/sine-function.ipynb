{
 "cells": [
  {
   "cell_type": "markdown",
   "id": "e6e504d1-92ac-49c0-8546-2f45d8b94897",
   "metadata": {},
   "source": [
    "# Static Nonlinear\n",
    "\n",
    "Presentation of the neural model supported by kernel regression on static nonlinear dataset.\n",
    "\n",
    "*Note*: to see how dataset was generated, go to `dataset.ipynb`."
   ]
  },
  {
   "cell_type": "code",
   "execution_count": null,
   "id": "ea9fc4e6-fd0b-4b07-b35f-7cb84bc94002",
   "metadata": {},
   "outputs": [],
   "source": [
    "import sys\n",
    "\n",
    "sys.path.append(\"..\")  # we run from subdirectory, so to access sources append repo root to path"
   ]
  },
  {
   "cell_type": "code",
   "execution_count": null,
   "id": "2002975f-0068-4a3e-9dae-79e489a98e02",
   "metadata": {},
   "outputs": [],
   "source": [
    "import numpy as np\n",
    "import pandas as pd\n",
    "import seaborn as sns\n",
    "import torch\n",
    "from matplotlib import pyplot as plt\n",
    "from pydentification.data.datamodules.simulation import SimulationDataModule\n",
    "from pydentification.data.process import unbatch\n",
    "from sklearn import metrics\n",
    "\n",
    "from src.nonparametric import kernels\n",
    "from src.nonparametric.memory import ExactMemoryManager\n",
    "from src.training.module import BoundedSimulationTrainingModule"
   ]
  },
  {
   "cell_type": "code",
   "execution_count": null,
   "id": "c0451c18-fcae-4860-8214-cf149b9b93fd",
   "metadata": {},
   "outputs": [],
   "source": [
    "sns.set()"
   ]
  },
  {
   "cell_type": "markdown",
   "id": "dd244ca0-633a-4d03-9bb1-b74dde677709",
   "metadata": {},
   "source": [
    "# Settings\n",
    "\n",
    "Settings for the experiment, including paths, dataset size etc."
   ]
  },
  {
   "cell_type": "code",
   "execution_count": null,
   "id": "935b4ffb-950a-446b-8b35-95c13882a59a",
   "metadata": {},
   "outputs": [],
   "source": [
    "data_path = r\"../data/csv/sine-function.csv\"\n",
    "plot_path = r\"../data/plots/sine-function/\"\n",
    "model_path = r\"../models/sine-function-network.pt\"\n",
    "\n",
    "test_size = 1000"
   ]
  },
  {
   "cell_type": "code",
   "execution_count": null,
   "id": "d2b72307-0a5d-4b9a-8d5f-26ba28c55e70",
   "metadata": {},
   "outputs": [],
   "source": [
    "dataset = pd.read_csv(data_path)"
   ]
  },
  {
   "cell_type": "code",
   "execution_count": null,
   "id": "23c61d4c-6149-492a-b9bc-f4954b7b451f",
   "metadata": {},
   "outputs": [],
   "source": [
    "_ = plt.figure(figsize=[10, 6])\n",
    "\n",
    "train_size = len(dataset) - test_size\n",
    "_ = plt.scatter(dataset[\"x\"].iloc[:train_size], dataset[\"y\"].iloc[:train_size], s=5)\n",
    "_ = plt.scatter(dataset[\"x\"].iloc[train_size:], dataset[\"y\"].iloc[train_size:], s=5)\n",
    "\n",
    "_ = plt.legend([\"Train\", \"Test\"])\n",
    "_ = plt.savefig(rf\"{plot_path}/dataset.png\")"
   ]
  },
  {
   "cell_type": "markdown",
   "id": "4550ee80-b5e7-4383-89ea-22e8b245074e",
   "metadata": {},
   "source": [
    "### Dataset"
   ]
  },
  {
   "cell_type": "code",
   "execution_count": null,
   "id": "d1f8b400-591e-42dc-921e-23dc9e5aac7c",
   "metadata": {},
   "outputs": [],
   "source": [
    "dm = SimulationDataModule.from_csv(\n",
    "    dataset_path=data_path,\n",
    "    input_columns=[\"x\"],\n",
    "    output_columns=[\"y\"],\n",
    "    test_size=test_size,\n",
    "    batch_size=32,  # used for prediction, we will not train network here\n",
    "    validation_size=0.0,  # no need for validation\n",
    "    shift=1,\n",
    "    forward_input_window_size=1,\n",
    "    forward_output_window_size=1,\n",
    "    forward_output_mask=0,\n",
    ")"
   ]
  },
  {
   "cell_type": "code",
   "execution_count": null,
   "id": "0e554397-8953-4349-8d04-68c15c87403b",
   "metadata": {},
   "outputs": [],
   "source": [
    "# setup the data for prediction\n",
    "dm.setup(\"fit\")\n",
    "dm.setup(\"predict\")"
   ]
  },
  {
   "cell_type": "code",
   "execution_count": null,
   "id": "5a6b6acf-a934-4eb5-ac02-0ae568870845",
   "metadata": {},
   "outputs": [],
   "source": [
    "for x, y in dm.train_dataloader():\n",
    "    print(x.shape, y.shape)\n",
    "    break  # make sure shapes are as we expect"
   ]
  },
  {
   "cell_type": "code",
   "execution_count": null,
   "id": "bfbc3033-95b0-4543-8df9-182e908a9234",
   "metadata": {},
   "outputs": [],
   "source": [
    "for x, y in dm.test_dataloader():\n",
    "    print(x.shape, y.shape)\n",
    "    break"
   ]
  },
  {
   "cell_type": "markdown",
   "id": "c25bec92-061a-44ed-a709-a2b17155f964",
   "metadata": {},
   "source": [
    "# Model\n",
    "\n",
    "Create the model from neural network we have trained before.\n",
    "\n",
    "The settings for kernel regression are selected using hyper-parameter search, which are the best we found for this problem."
   ]
  },
  {
   "cell_type": "code",
   "execution_count": null,
   "id": "ca66f492-fca2-4978-9691-64048c59f737",
   "metadata": {},
   "outputs": [],
   "source": [
    "network = torch.load(model_path)"
   ]
  },
  {
   "cell_type": "code",
   "execution_count": null,
   "id": "2c94a171-1b44-4620-ab82-1792c1ac9ac0",
   "metadata": {},
   "outputs": [],
   "source": [
    "model = BoundedSimulationTrainingModule(\n",
    "    network=network,\n",
    "    optimizer=torch.optim.Adam(network.parameters()),  # will not be used anyway\n",
    "    lr_scheduler=None,\n",
    "    bound_during_training=False,\n",
    "    bound_crossing_penalty=0.0,\n",
    "    bandwidth=0.2,\n",
    "    kernel=kernels.box_kernel,\n",
    "    memory_manager=ExactMemoryManager(),  # dataset is low-dimensional, so no need to use approximated nearest neighbours here\n",
    "    lipschitz_constant=1,  # known\n",
    "    delta=0.1,  # user defined\n",
    "    noise_variance=0.05,  # we know the variance from dataset generation\n",
    "    k=10,\n",
    "    p=2,\n",
    "    r=None,\n",
    "    memory_device=\"cpu\",\n",
    "    predict_device=\"cpu\",\n",
    ")"
   ]
  },
  {
   "cell_type": "code",
   "execution_count": null,
   "id": "324e0ff4-fa30-4b6d-bc8d-c0843db32997",
   "metadata": {},
   "outputs": [],
   "source": [
    "# unbatch the dataset to prepare memory manager\n",
    "x, y = unbatch(dm.train_dataloader())\n",
    "x.shape, y.shape"
   ]
  },
  {
   "cell_type": "code",
   "execution_count": null,
   "id": "cbdc6c17-0425-469e-ae75-ea8c1326c1e7",
   "metadata": {},
   "outputs": [],
   "source": [
    "model.prepare(x, y)"
   ]
  },
  {
   "cell_type": "markdown",
   "id": "6bea9018-6f2f-419c-92d2-cf838ba428b3",
   "metadata": {},
   "source": [
    "# Test\n",
    "\n",
    "Run the predictions with trained network and kernel regression."
   ]
  },
  {
   "cell_type": "code",
   "execution_count": null,
   "id": "6734161e-4a6a-464e-9a60-e60723f58e75",
   "metadata": {},
   "outputs": [],
   "source": [
    "outputs = model.predict_dataloader(dm.test_dataloader())"
   ]
  },
  {
   "cell_type": "code",
   "execution_count": null,
   "id": "80a7e5da-67c8-4dba-a98e-f00f99f9e1a3",
   "metadata": {},
   "outputs": [],
   "source": [
    "_ = plt.figure(figsize=[10, 6])\n",
    "\n",
    "index = np.argsort(dataset[\"x\"].iloc[train_size:].values)  # sort index from smallest to largest to plot predictions with line\n",
    "x = (dataset[\"x\"].iloc[train_size:].values[index])  # indenedent variable\n",
    "\n",
    "_ = plt.scatter(x, dataset[\"y\"].iloc[train_size:].values[index], s=5)\n",
    "_ = plt.plot(x, outputs[\"network_predictions\"].numpy().flatten()[index], c=\"r\")\n",
    "_ = plt.plot(x, outputs[\"nonparametric_predictions\"][index], c=\"g\")\n",
    "_ = plt.fill_between(x, outputs[\"lower_bound\"].numpy().flatten()[index], outputs[\"upper_bound\"].numpy().flatten()[index], color=\"b\", alpha=0.4)\n",
    "\n",
    "_ = plt.legend([\"Training Data\", \"Network Predictions\", \"Kernel Regression Predictions\"])\n",
    "_ = plt.savefig(fr\"{plot_path}/predictions.png\")"
   ]
  },
  {
   "cell_type": "markdown",
   "id": "bfc9fafe-0b79-43c7-9267-44fcd8391e8a",
   "metadata": {},
   "source": [
    "# Metrics\n",
    "\n",
    "Compute metrics to report in the paper."
   ]
  },
  {
   "cell_type": "code",
   "execution_count": null,
   "id": "690ab5df-1f35-40fa-9c6e-3d4305f44cc8",
   "metadata": {},
   "outputs": [],
   "source": [
    "def range_ratio_error(error, y_true):\n",
    "    return error / (y_true.max() - y_true.min())\n",
    "\n",
    "def report(outputs, targets):\n",
    "    rmse_network = metrics.mean_squared_error(y_true=targets, y_pred=outputs[\"network_predictions\"].numpy().flatten(), squared=False)\n",
    "    rmse_nonparametric = metrics.mean_squared_error(y_true=targets, y_pred=outputs[\"nonparametric_predictions\"].numpy().flatten(), squared=False)\n",
    "    rmse_bound = metrics.mean_squared_error(y_true=targets, y_pred=outputs[\"lower_bound\"].numpy().flatten(), squared=False)\n",
    "\n",
    "    print(f\"RMSE NET:    {rmse_network:.4f}\")\n",
    "    print(f\"RMSE KRE:    {rmse_nonparametric:.4f}\")\n",
    "    print(f\"RMSE BOUNDS: {rmse_bound:.4f}\", end=\"\\n\\n\")\n",
    "    print(f\"RRR NET:     {range_ratio_error(error=rmse_network, y_true=targets):.2%}\")\n",
    "    print(f\"RRR KRE:     {range_ratio_error(error=rmse_nonparametric, y_true=targets):.2%}\")\n",
    "    print(f\"RRR BOUNDS:  {range_ratio_error(error=rmse_bound, y_true=targets):.2%}\")"
   ]
  },
  {
   "cell_type": "code",
   "execution_count": null,
   "id": "1a1d832b-6241-4ebf-ae90-a9e645a7dde3",
   "metadata": {},
   "outputs": [],
   "source": [
    "report(outputs, dataset[\"y\"].iloc[train_size:].values)"
   ]
  },
  {
   "cell_type": "code",
   "execution_count": null,
   "id": "d774d4ae-360f-4824-b382-ac10ea881bf6",
   "metadata": {},
   "outputs": [],
   "source": []
  }
 ],
 "metadata": {
  "kernelspec": {
   "display_name": "Python 3 (ipykernel)",
   "language": "python",
   "name": "python3"
  },
  "language_info": {
   "codemirror_mode": {
    "name": "ipython",
    "version": 3
   },
   "file_extension": ".py",
   "mimetype": "text/x-python",
   "name": "python",
   "nbconvert_exporter": "python",
   "pygments_lexer": "ipython3",
   "version": "3.10.13"
  }
 },
 "nbformat": 4,
 "nbformat_minor": 5
}
