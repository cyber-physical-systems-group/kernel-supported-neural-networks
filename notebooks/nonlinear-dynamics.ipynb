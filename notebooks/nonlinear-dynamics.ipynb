{
 "cells": [
  {
   "cell_type": "markdown",
   "id": "4de54f38-cbe1-4877-8dbf-b8109711b4d3",
   "metadata": {},
   "source": [
    "# Nonlinear Dynamics\n",
    "\n",
    "Presentation of the neural model supported by kernel regression on nonlinear dynamical dataset.\n",
    "Dynamics are represented using delay-line, which effectively makes the dataset MISO, with 16 input dimensions (the length of the delay-line).\n",
    "\n",
    "*Note*: to see how dataset was generated, go to `dataset.ipynb`."
   ]
  },
  {
   "cell_type": "code",
   "execution_count": null,
   "id": "34dcaf6c-cbbb-4a74-8651-11cc6c79e20b",
   "metadata": {},
   "outputs": [],
   "source": [
    "import sys\n",
    "\n",
    "sys.path.append(\"..\")  # we run from subdirectory, so to access sources append repo root to path"
   ]
  },
  {
   "cell_type": "code",
   "execution_count": null,
   "id": "dc27f6d7-7a2c-4268-9c97-aa97890ef782",
   "metadata": {},
   "outputs": [],
   "source": [
    "import pandas as pd\n",
    "import numpy as np\n",
    "import torch\n",
    "import seaborn as sns\n",
    "from sklearn import metrics\n",
    "from matplotlib import pyplot as plt\n",
    "\n",
    "from pydentification.data.datamodules.simulation import SimulationDataModule\n",
    "from pydentification.data.process import unbatch\n",
    "from pydentification.models.nonparametric import kernels\n",
    "from pydentification.models.nonparametric.memory import ExactMemoryManager\n",
    "from pydentification.training.bounded.module import BoundedSimulationTrainingModule"
   ]
  },
  {
   "cell_type": "code",
   "execution_count": null,
   "id": "c0451c18-fcae-4860-8214-cf149b9b93fd",
   "metadata": {},
   "outputs": [],
   "source": [
    "sns.set()"
   ]
  },
  {
   "cell_type": "markdown",
   "id": "bb4e68dc-49d1-43f0-820c-b8bd4b79fc2b",
   "metadata": {},
   "source": [
    "# Dataset\n",
    "\n",
    "Dataset contains 3 columns, independent time-index, inputs and outputs of the dynamical system."
   ]
  },
  {
   "cell_type": "code",
   "execution_count": null,
   "id": "5d865602-33c1-4b02-b5d2-678741df42c8",
   "metadata": {},
   "outputs": [],
   "source": [
    "dataset_path = \"../data/csv/nonlinear-dynamics.csv\"\n",
    "plot_path = \"../data/plots/nonlinear-dynamics/\"\n",
    "model_path = \"../models/nonlinear-dynamics-network.pt\"\n",
    "\n",
    "train_size = 50_000"
   ]
  },
  {
   "cell_type": "code",
   "execution_count": null,
   "id": "d2b72307-0a5d-4b9a-8d5f-26ba28c55e70",
   "metadata": {},
   "outputs": [],
   "source": [
    "dataset = pd.read_csv(dataset_path)\n",
    "dataset.head(3)"
   ]
  },
  {
   "cell_type": "code",
   "execution_count": null,
   "id": "23c61d4c-6149-492a-b9bc-f4954b7b451f",
   "metadata": {
    "scrolled": true
   },
   "outputs": [],
   "source": [
    "_ = plt.figure(figsize=[10, 6])\n",
    "\n",
    "_ = plt.scatter(dataset[\"t\"].iloc[:train_size], dataset[\"y\"].iloc[:train_size], s=1)\n",
    "_ = plt.scatter(dataset[\"t\"].iloc[train_size:], dataset[\"y\"].iloc[train_size:], s=1)\n",
    "\n",
    "_ = plt.legend([\"Train Outputs\", \"Test Outputs\"])\n",
    "_ = plt.savefig(fr\"{plot_path}/system-outputs.png\")"
   ]
  },
  {
   "cell_type": "code",
   "execution_count": null,
   "id": "65cc0e31-3680-4fc2-b45e-7110a1a2e0ec",
   "metadata": {},
   "outputs": [],
   "source": [
    "_ = plt.figure(figsize=[10, 6])\n",
    "\n",
    "_ = plt.scatter(dataset[\"t\"].iloc[:train_size], dataset[\"u\"].iloc[:train_size], s=1)\n",
    "_ = plt.scatter(dataset[\"t\"].iloc[train_size:], dataset[\"u\"].iloc[train_size:], s=1)\n",
    "\n",
    "_ = plt.legend([\"Train Inputs\", \"Test Inputs\"])\n",
    "_ = plt.savefig(fr\"{plot_path}/system-inputs.png\")"
   ]
  },
  {
   "cell_type": "markdown",
   "id": "9c8dd486-dbaf-49f8-9c1c-9a0dac566190",
   "metadata": {},
   "source": [
    "# Dataset"
   ]
  },
  {
   "cell_type": "code",
   "execution_count": null,
   "id": "d1f8b400-591e-42dc-921e-23dc9e5aac7c",
   "metadata": {},
   "outputs": [],
   "source": [
    "dm = SimulationDataModule.from_csv(\n",
    "    dataset_path=dataset_path,\n",
    "    input_columns=[\"u\"],\n",
    "    output_columns=[\"y\"],\n",
    "    test_size=len(dataset) - train_size,\n",
    "    batch_size=64,\n",
    "    validation_size=0.0,\n",
    "    shift=1,\n",
    "    forward_input_window_size=16,  # delay-line length\n",
    "    forward_output_window_size=16,\n",
    "    forward_output_mask=15,\n",
    ")"
   ]
  },
  {
   "cell_type": "code",
   "execution_count": null,
   "id": "0e554397-8953-4349-8d04-68c15c87403b",
   "metadata": {},
   "outputs": [],
   "source": [
    "# setup the data for prediction\n",
    "dm.setup(\"fit\")\n",
    "dm.setup(\"predict\")"
   ]
  },
  {
   "cell_type": "code",
   "execution_count": null,
   "id": "5a6b6acf-a934-4eb5-ac02-0ae568870845",
   "metadata": {},
   "outputs": [],
   "source": [
    "for x, y in dm.train_dataloader():\n",
    "    print(x.shape, y.shape)\n",
    "    break"
   ]
  },
  {
   "cell_type": "code",
   "execution_count": null,
   "id": "bfbc3033-95b0-4543-8df9-182e908a9234",
   "metadata": {},
   "outputs": [],
   "source": [
    "for x, y in dm.test_dataloader():\n",
    "    print(x.shape, y.shape)\n",
    "    break"
   ]
  },
  {
   "cell_type": "markdown",
   "id": "8ec0407e-fd39-4ed7-9acd-58a4837283a7",
   "metadata": {},
   "source": [
    "# Model\n",
    "\n",
    "Create the model from neural network we have trained before.\n",
    "\n",
    "The settings for kernel regression are selected using hyper-parameter search, which are the best we found for this problem."
   ]
  },
  {
   "cell_type": "code",
   "execution_count": null,
   "id": "051b48e6-be60-4953-909a-3fed72576291",
   "metadata": {},
   "outputs": [],
   "source": [
    "network = torch.load(model_path)"
   ]
  },
  {
   "cell_type": "code",
   "execution_count": null,
   "id": "2c94a171-1b44-4620-ab82-1792c1ac9ac0",
   "metadata": {},
   "outputs": [],
   "source": [
    "model = BoundedSimulationTrainingModule(\n",
    "    network=network,\n",
    "    optimizer=torch.optim.Adam(network.parameters()),  # not needed\n",
    "    lr_scheduler=None,\n",
    "    bound_during_training=False,\n",
    "    bound_crossing_penalty=0.0,\n",
    "    bandwidth=0.5,\n",
    "    kernel=kernels.box_kernel,\n",
    "    memory_manager=ExactMemoryManager(),  # using exact memory manager is performant enough in 16 dimensions\n",
    "    lipschitz_constant=1,\n",
    "    delta=0.1,\n",
    "    noise_variance=\"estimate\",  # assume we do not know the variance\n",
    "    k=32,\n",
    "    p=2,\n",
    "    memory_device=\"cpu\",\n",
    "    predict_device=\"cpu\",\n",
    ")"
   ]
  },
  {
   "cell_type": "code",
   "execution_count": null,
   "id": "811ac2e1-cade-4e12-8f19-d80f5087df87",
   "metadata": {},
   "outputs": [],
   "source": [
    "x, y = unbatch(dm.train_dataloader())\n",
    "x.shape, y.shape"
   ]
  },
  {
   "cell_type": "code",
   "execution_count": null,
   "id": "cbdc6c17-0425-469e-ae75-ea8c1326c1e7",
   "metadata": {},
   "outputs": [],
   "source": [
    "model.prepare(x, y)"
   ]
  },
  {
   "cell_type": "code",
   "execution_count": null,
   "id": "6734161e-4a6a-464e-9a60-e60723f58e75",
   "metadata": {},
   "outputs": [],
   "source": [
    "outputs = model.predict_datamodule(dm, with_targets=True)\n",
    "type(outputs)"
   ]
  },
  {
   "cell_type": "code",
   "execution_count": null,
   "id": "17f3c61d-710c-447e-b7de-5cfe017e582a",
   "metadata": {},
   "outputs": [],
   "source": [
    "outputs.keys()"
   ]
  },
  {
   "cell_type": "code",
   "execution_count": null,
   "id": "80a7e5da-67c8-4dba-a98e-f00f99f9e1a3",
   "metadata": {},
   "outputs": [],
   "source": [
    "_ = plt.figure(figsize=[10, 6])\n",
    "\n",
    "# a few time-samples might be lost due to windowing, slice time index from start of test to last available prediction\n",
    "t = dataset[\"t\"].iloc[train_size : train_size + len(outputs[\"targets\"])].values\n",
    "index = np.argsort(t)\n",
    "# create time index sorting predictions, so we can use line plot\n",
    "t = t[index]\n",
    "\n",
    "_ = plt.scatter(t, outputs[\"targets\"][index], s=5)\n",
    "_ = plt.plot(t, outputs[\"nonparametric_predictions\"][index], c=\"g\")\n",
    "_ = plt.plot(t, outputs[\"network_predictions\"].numpy().flatten()[index], c=\"r\")\n",
    "_ = plt.fill_between(t, outputs[\"lower_bound\"].numpy().flatten()[index], outputs[\"upper_bound\"].numpy().flatten()[index], color=\"b\", alpha=0.4)\n",
    "\n",
    "_ = plt.legend([\"Training Data\", \"Kernel Regression Predictions\", \"Network Predictions\"])\n",
    "_ = plt.savefig(fr\"{plot_path}/predictions.png\")"
   ]
  },
  {
   "cell_type": "code",
   "execution_count": null,
   "id": "63511b12-5af9-41cd-86f9-97b4787d472b",
   "metadata": {},
   "outputs": [],
   "source": [
    "def range_ratio_error(error, y_true):\n",
    "    return error / (y_true.max() - y_true.min())\n",
    "\n",
    "def report(outputs, targets):\n",
    "    rmse_network = metrics.mean_squared_error(y_true=targets, y_pred=outputs[\"network_predictions\"].numpy().flatten(), squared=False)\n",
    "    rmse_nonparametric = metrics.mean_squared_error(y_true=targets, y_pred=outputs[\"nonparametric_predictions\"].numpy().flatten(), squared=False)\n",
    "    rmse_bound = metrics.mean_squared_error(y_true=targets, y_pred=outputs[\"lower_bound\"].numpy().flatten(), squared=False)\n",
    "\n",
    "    print(f\"RMSE NET:    {rmse_network:.4f}\")\n",
    "    print(f\"RMSE KRE:    {rmse_nonparametric:.4f}\")\n",
    "    print(f\"RMSE BOUNDS: {rmse_bound:.4f}\", end=\"\\n\\n\")\n",
    "    print(f\"RRR NET:     {range_ratio_error(error=rmse_network, y_true=targets):.2%}\")\n",
    "    print(f\"RRR KRE:     {range_ratio_error(error=rmse_nonparametric, y_true=targets):.2%}\")\n",
    "    print(f\"RRR BOUNDS:  {range_ratio_error(error=rmse_bound, y_true=targets):.2%}\")"
   ]
  },
  {
   "cell_type": "code",
   "execution_count": null,
   "id": "362d7851-27b0-4fe0-8c0d-e851aef859ec",
   "metadata": {},
   "outputs": [],
   "source": [
    "report(outputs, outputs[\"targets\"].numpy().flatten())"
   ]
  },
  {
   "cell_type": "code",
   "execution_count": null,
   "id": "58e9d7b8-bb37-4bc8-9be0-5a195b6629ca",
   "metadata": {},
   "outputs": [],
   "source": []
  }
 ],
 "metadata": {
  "kernelspec": {
   "display_name": "Python 3 (ipykernel)",
   "language": "python",
   "name": "python3"
  },
  "language_info": {
   "codemirror_mode": {
    "name": "ipython",
    "version": 3
   },
   "file_extension": ".py",
   "mimetype": "text/x-python",
   "name": "python",
   "nbconvert_exporter": "python",
   "pygments_lexer": "ipython3",
   "version": "3.10.13"
  }
 },
 "nbformat": 4,
 "nbformat_minor": 5
}
