{
 "cells": [
  {
   "cell_type": "markdown",
   "id": "795902c8-6c33-4c00-bfe4-4f64b450a7ec",
   "metadata": {},
   "source": [
    "# Sum of Gaussians\n",
    "\n",
    "Presentation of the neural model supported by kernel regression on sum of Gaussians dataset.\n",
    "\n",
    "*Note*: to see how dataset was generated, go to `dataset.ipynb`."
   ]
  },
  {
   "cell_type": "code",
   "execution_count": 1,
   "id": "045dc511-7fc2-49d7-a645-ef365c9dfbde",
   "metadata": {},
   "outputs": [],
   "source": [
    "import sys\n",
    "\n",
    "sys.path.append(\"..\")  # we run from subdirectory, so to access sources append repo root to path"
   ]
  },
  {
   "cell_type": "code",
   "execution_count": 2,
   "id": "f7df7c5c-8769-49e0-8c97-6cdbce6656a7",
   "metadata": {},
   "outputs": [],
   "source": [
    "import pandas as pd\n",
    "import seaborn as sns\n",
    "import torch\n",
    "from pydentification.data.datamodules.simulation import SimulationDataModule\n",
    "from pydentification.models.modules.feedforward import TimeSeriesLinear\n",
    "from sklearn import metrics\n",
    "\n",
    "from src.nonparametric import kernels\n",
    "from src.nonparametric.memory import ExactMemoryManager\n",
    "from src.training.module import BoundedSimulationTrainingModule\n",
    "from src.training.utils import unbatch"
   ]
  },
  {
   "cell_type": "code",
   "execution_count": 3,
   "id": "07af00e7-4802-413a-995f-21a1982564b2",
   "metadata": {},
   "outputs": [],
   "source": [
    "sns.set()"
   ]
  },
  {
   "cell_type": "markdown",
   "id": "940fa41d-c096-4473-acc1-6f88222e108a",
   "metadata": {},
   "source": [
    "# Dataset"
   ]
  },
  {
   "cell_type": "code",
   "execution_count": 4,
   "id": "23f82195-dcc1-406c-9f0b-ba19166bb7b6",
   "metadata": {},
   "outputs": [],
   "source": [
    "data_path = r\"../data/csv/sum-of-gaussians.csv\"\n",
    "plot_path = r\"../data/plots/sum-of-gaussians/\"\n",
    "model_path = r\"../models/sum-of-gaussians-network-parameters.pt\""
   ]
  },
  {
   "cell_type": "markdown",
   "id": "b2dc83fa-c2ab-456c-b620-69a85bfaa29d",
   "metadata": {},
   "source": [
    "We do not plot this dataset, since it is 8 dimensional."
   ]
  },
  {
   "cell_type": "code",
   "execution_count": 5,
   "id": "7fcdf8d9-ffc6-4030-8099-e78eb7f4956e",
   "metadata": {},
   "outputs": [
    {
     "data": {
      "text/html": [
       "<div>\n",
       "<style scoped>\n",
       "    .dataframe tbody tr th:only-of-type {\n",
       "        vertical-align: middle;\n",
       "    }\n",
       "\n",
       "    .dataframe tbody tr th {\n",
       "        vertical-align: top;\n",
       "    }\n",
       "\n",
       "    .dataframe thead th {\n",
       "        text-align: right;\n",
       "    }\n",
       "</style>\n",
       "<table border=\"1\" class=\"dataframe\">\n",
       "  <thead>\n",
       "    <tr style=\"text-align: right;\">\n",
       "      <th></th>\n",
       "      <th>x1</th>\n",
       "      <th>x2</th>\n",
       "      <th>x3</th>\n",
       "      <th>x4</th>\n",
       "      <th>x5</th>\n",
       "      <th>x6</th>\n",
       "      <th>x7</th>\n",
       "      <th>x8</th>\n",
       "      <th>y</th>\n",
       "    </tr>\n",
       "  </thead>\n",
       "  <tbody>\n",
       "    <tr>\n",
       "      <th>0</th>\n",
       "      <td>-0.752315</td>\n",
       "      <td>0.965348</td>\n",
       "      <td>-0.449306</td>\n",
       "      <td>0.954614</td>\n",
       "      <td>0.110536</td>\n",
       "      <td>0.730278</td>\n",
       "      <td>-0.026545</td>\n",
       "      <td>-0.656438</td>\n",
       "      <td>0.018566</td>\n",
       "    </tr>\n",
       "    <tr>\n",
       "      <th>1</th>\n",
       "      <td>-0.563668</td>\n",
       "      <td>0.588315</td>\n",
       "      <td>0.324720</td>\n",
       "      <td>-0.769585</td>\n",
       "      <td>0.258406</td>\n",
       "      <td>-0.398560</td>\n",
       "      <td>0.144918</td>\n",
       "      <td>0.604386</td>\n",
       "      <td>0.010243</td>\n",
       "    </tr>\n",
       "    <tr>\n",
       "      <th>2</th>\n",
       "      <td>-0.067591</td>\n",
       "      <td>0.946457</td>\n",
       "      <td>0.700753</td>\n",
       "      <td>0.363820</td>\n",
       "      <td>0.145539</td>\n",
       "      <td>-0.792149</td>\n",
       "      <td>0.844950</td>\n",
       "      <td>0.284326</td>\n",
       "      <td>0.004732</td>\n",
       "    </tr>\n",
       "  </tbody>\n",
       "</table>\n",
       "</div>"
      ],
      "text/plain": [
       "         x1        x2        x3        x4        x5        x6        x7  \\\n",
       "0 -0.752315  0.965348 -0.449306  0.954614  0.110536  0.730278 -0.026545   \n",
       "1 -0.563668  0.588315  0.324720 -0.769585  0.258406 -0.398560  0.144918   \n",
       "2 -0.067591  0.946457  0.700753  0.363820  0.145539 -0.792149  0.844950   \n",
       "\n",
       "         x8         y  \n",
       "0 -0.656438  0.018566  \n",
       "1  0.604386  0.010243  \n",
       "2  0.284326  0.004732  "
      ]
     },
     "execution_count": 5,
     "metadata": {},
     "output_type": "execute_result"
    }
   ],
   "source": [
    "dataset = pd.read_csv(data_path)\n",
    "dataset.head(3)"
   ]
  },
  {
   "cell_type": "code",
   "execution_count": 6,
   "id": "fd7b79480e210386",
   "metadata": {},
   "outputs": [],
   "source": [
    "train_size = 10_000\n",
    "test_size = len(dataset) - train_size"
   ]
  },
  {
   "cell_type": "code",
   "execution_count": 7,
   "id": "0ce38b5a-3c05-483c-9686-a60fd63f5c42",
   "metadata": {},
   "outputs": [],
   "source": [
    "# we use trick to generate static data using data-module for simulation\n",
    "# the time and system dimension will be swapped to keep implementation the same\n",
    "dm = SimulationDataModule.from_csv(\n",
    "    dataset_path=data_path,\n",
    "    input_columns=[\"x1\", \"x2\", \"x3\", \"x4\", \"x5\", \"x6\", \"x7\", \"x8\"],\n",
    "    output_columns=[\"y\"],\n",
    "    test_size=test_size,\n",
    "    batch_size=32,  # used for prediction, we will not train network here\n",
    "    validation_size=0.0,  # no need for validation\n",
    "    shift=1,\n",
    "    forward_input_window_size=1,\n",
    "    forward_output_window_size=1,\n",
    "    forward_output_mask=0,\n",
    ")"
   ]
  },
  {
   "cell_type": "code",
   "execution_count": 8,
   "id": "1eed17d5-a586-4bd9-a5f2-7c1c466bc662",
   "metadata": {},
   "outputs": [],
   "source": [
    "# setup the data for prediction\n",
    "dm.setup(\"fit\")\n",
    "dm.setup(\"predict\")"
   ]
  },
  {
   "cell_type": "code",
   "execution_count": 9,
   "id": "f44606be-5c1b-4ce0-af24-e50580ecd211",
   "metadata": {},
   "outputs": [
    {
     "name": "stdout",
     "output_type": "stream",
     "text": [
      "torch.Size([32, 1, 8]) torch.Size([32, 1, 1])\n"
     ]
    }
   ],
   "source": [
    "for x, y in dm.train_dataloader():\n",
    "    print(x.shape, y.shape)\n",
    "    break  # system is 8 dimensional with single time-step"
   ]
  },
  {
   "cell_type": "code",
   "execution_count": 10,
   "id": "92fbba9e-8340-4987-9e01-503fa2b46665",
   "metadata": {},
   "outputs": [
    {
     "name": "stdout",
     "output_type": "stream",
     "text": [
      "torch.Size([32, 1, 8]) torch.Size([32, 1, 1])\n"
     ]
    }
   ],
   "source": [
    "for x, y in dm.test_dataloader():\n",
    "    print(x.shape, y.shape)\n",
    "    break"
   ]
  },
  {
   "cell_type": "markdown",
   "id": "733e99fc-8d91-422d-a776-f454c987b600",
   "metadata": {},
   "source": [
    "# Model\n",
    "\n",
    "Create the model from neural network we have trained before.\n",
    "\n",
    "The settings for kernel regression are selected using hyper-parameter search, which are the best we found for this problem."
   ]
  },
  {
   "cell_type": "code",
   "execution_count": 11,
   "id": "cbfdf4a9-c7c9-48c7-bd86-a45b8fecb1e0",
   "metadata": {},
   "outputs": [],
   "source": [
    "network = torch.nn.Sequential(\n",
    "    TimeSeriesLinear(n_input_time_steps=1, n_input_state_variables=8, n_output_time_steps=1, n_output_state_variables=16),\n",
    "    torch.nn.ReLU(),\n",
    "    TimeSeriesLinear(n_input_time_steps=1, n_input_state_variables=16, n_output_time_steps=1, n_output_state_variables=16),\n",
    "    torch.nn.ReLU(),\n",
    "    TimeSeriesLinear(n_input_time_steps=1, n_input_state_variables=16, n_output_time_steps=1, n_output_state_variables=16),\n",
    "    torch.nn.ReLU(),\n",
    "    TimeSeriesLinear(n_input_time_steps=1, n_input_state_variables=16, n_output_time_steps=1, n_output_state_variables=16),\n",
    "    torch.nn.ReLU(),\n",
    "    TimeSeriesLinear(n_input_time_steps=1, n_input_state_variables=16, n_output_time_steps=1, n_output_state_variables=1),\n",
    ")"
   ]
  },
  {
   "cell_type": "code",
   "execution_count": 12,
   "id": "2e4ea6d3-c015-409d-a283-94fd88cf8e67",
   "metadata": {},
   "outputs": [
    {
     "data": {
      "text/plain": [
       "<All keys matched successfully>"
      ]
     },
     "execution_count": 12,
     "metadata": {},
     "output_type": "execute_result"
    }
   ],
   "source": [
    "network.load_state_dict(torch.load(model_path, weights_only=True))"
   ]
  },
  {
   "cell_type": "code",
   "execution_count": 13,
   "id": "770c655b-6240-49ac-8825-9f00a4da1110",
   "metadata": {},
   "outputs": [],
   "source": [
    "model = BoundedSimulationTrainingModule(\n",
    "    network=network,\n",
    "    optimizer=torch.optim.Adam(network.parameters()),  # will not be used anyway\n",
    "    lr_scheduler=None,\n",
    "    bound_during_training=False,\n",
    "    bound_crossing_penalty=0.0,\n",
    "    bandwidth=0.91,  # using kernel size 0.9 generate single NaN, so we set it to 0.91\n",
    "    kernel=kernels.box_kernel,\n",
    "    memory_manager=ExactMemoryManager(),  # dataset is low-dimensional, so no need to use approximated nearest neighbours here\n",
    "    lipschitz_constant=0.25,  # known\n",
    "    delta=0.1,  # user defined\n",
    "    noise_variance=0.05,  # we know the variance from dataset generation\n",
    "    k_neighbours=32,\n",
    "    power=2,\n",
    "    radius=None,\n",
    "    memory_device=\"cpu\",\n",
    "    predict_device=\"cpu\",\n",
    ")"
   ]
  },
  {
   "cell_type": "code",
   "execution_count": 14,
   "id": "33df8a0c-3129-4b09-933f-8380919856c6",
   "metadata": {},
   "outputs": [
    {
     "data": {
      "text/plain": [
       "(torch.Size([10000, 1, 8]), torch.Size([10000, 1, 1]))"
      ]
     },
     "execution_count": 14,
     "metadata": {},
     "output_type": "execute_result"
    }
   ],
   "source": [
    "# unbatch the dataset to prepare memory manager\n",
    "x, y = unbatch(dm.train_dataloader())\n",
    "x.shape, y.shape"
   ]
  },
  {
   "cell_type": "code",
   "execution_count": 15,
   "id": "4def2742-f61a-4e65-b37b-73248b0adb74",
   "metadata": {},
   "outputs": [],
   "source": [
    "model.prepare(x, y)"
   ]
  },
  {
   "cell_type": "markdown",
   "id": "e6814cc1-14f3-4c1b-923c-37d3323294ab",
   "metadata": {},
   "source": [
    "# Test\n",
    "\n",
    "Run the predictions with trained network and kernel regression."
   ]
  },
  {
   "cell_type": "code",
   "execution_count": 16,
   "id": "bc6f9d2e-7e5f-4776-b261-26dd08406a23",
   "metadata": {},
   "outputs": [],
   "source": [
    "outputs = model.predict_dataloader(dm.test_dataloader())"
   ]
  },
  {
   "cell_type": "code",
   "execution_count": 19,
   "id": "7886029f-8b42-407b-80d0-0c3953cc1817",
   "metadata": {},
   "outputs": [],
   "source": [
    "def range_ratio_error(error, y_true):\n",
    "    return error / (y_true.max() - y_true.min())\n",
    "\n",
    "def report(predictions, targets):\n",
    "    rmse_network = metrics.root_mean_squared_error(y_true=targets, y_pred=predictions[\"network_predictions\"].numpy().flatten())\n",
    "    rmse_nonparametric = metrics.root_mean_squared_error(y_true=targets, y_pred=predictions[\"nonparametric_predictions\"].numpy().flatten())\n",
    "    rmse_bound = metrics.root_mean_squared_error(y_true=targets, y_pred=predictions[\"lower_bound\"].numpy().flatten())\n",
    "\n",
    "    print(f\"RMSE NET:    {rmse_network:.4f}\")\n",
    "    print(f\"RMSE KRE:    {rmse_nonparametric:.4f}\")\n",
    "    print(f\"RMSE BOUNDS: {rmse_bound:.4f}\", end=\"\\n\\n\")\n",
    "    print(f\"RRR NET:     {range_ratio_error(error=rmse_network, y_true=targets):.2%}\")\n",
    "    print(f\"RRR KRE:     {range_ratio_error(error=rmse_nonparametric, y_true=targets):.2%}\")\n",
    "    print(f\"RRR BOUNDS:  {range_ratio_error(error=rmse_bound, y_true=targets):.2%}\")"
   ]
  },
  {
   "cell_type": "code",
   "execution_count": 20,
   "id": "c4797fb3-7849-4052-a0ad-e53f9e419342",
   "metadata": {},
   "outputs": [
    {
     "name": "stdout",
     "output_type": "stream",
     "text": [
      "RMSE NET:    0.0109\n",
      "RMSE KRE:    0.0147\n",
      "RMSE BOUNDS: 0.2723\n",
      "\n",
      "RRR NET:     6.54%\n",
      "RRR KRE:     8.87%\n",
      "RRR BOUNDS:  163.99%\n"
     ]
    }
   ],
   "source": [
    "report(outputs, dataset[\"y\"].iloc[train_size:].values)"
   ]
  },
  {
   "cell_type": "code",
   "execution_count": null,
   "id": "0b3253c4-5b28-4820-b3df-4a5ec8f8abca",
   "metadata": {},
   "outputs": [],
   "source": []
  }
 ],
 "metadata": {
  "kernelspec": {
   "display_name": "Python 3 (ipykernel)",
   "language": "python",
   "name": "python3"
  },
  "language_info": {
   "codemirror_mode": {
    "name": "ipython",
    "version": 3
   },
   "file_extension": ".py",
   "mimetype": "text/x-python",
   "name": "python",
   "nbconvert_exporter": "python",
   "pygments_lexer": "ipython3",
   "version": "3.12.8"
  }
 },
 "nbformat": 4,
 "nbformat_minor": 5
}
